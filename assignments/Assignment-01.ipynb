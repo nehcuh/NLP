{
 "cells": [
  {
   "cell_type": "markdown",
   "metadata": {},
   "source": [
    "## Lesson-01 Assignment"
   ]
  },
  {
   "cell_type": "markdown",
   "metadata": {},
   "source": [
    ">"
   ]
  },
  {
   "cell_type": "markdown",
   "metadata": {},
   "source": [
    "`各位同学大家好，欢迎各位开始学习我们的人工智能课程。这门课程假设大家不具备机器学习和人工智能的知识，但是希望大家具备初级的Python编程能力。根据往期同学的实际反馈，我们课程的完结之后 能力能够超过80%的计算机人工智能/深度学习方向的硕士生的能力。`"
   ]
  },
  {
   "cell_type": "markdown",
   "metadata": {},
   "source": [
    "## 本次作业的内容"
   ]
  },
  {
   "cell_type": "markdown",
   "metadata": {},
   "source": [
    "#### 1. 复现课堂代码\n",
    "\n",
    "在本部分，你需要参照我们给大家的GitHub地址里边的课堂代码，结合课堂内容，复现内容。"
   ]
  },
  {
   "cell_type": "markdown",
   "metadata": {},
   "source": [
    "#### 2. 请回答以下问题\n",
    "\n",
    "回答以下问题，并将问题发送至 mqgao@kaikeba.com中：\n",
    "```\n",
    "    2.1. what do you want to acquire in this course？\n",
    "    2.2. what problems do you want to solve？\n",
    "    2.3. what’s the advantages you have to finish you goal?\n",
    "    2.4. what’s the disadvantages you need to overcome to finish you goal?\n",
    "    2.5. How will you plan to study in this course period?\n",
    "```"
   ]
  },
  {
   "cell_type": "markdown",
   "metadata": {},
   "source": [
    "#### 3. 如何提交\n",
    "代码 + 此 jupyter 相关，提交至自己的 github 中(**所以请务必把GitHub按照班主任要求录入在Trello中**)；\n",
    "第2问，请提交至mqgao@kaikeba.com邮箱。\n",
    "#### 4. 作业截止时间\n",
    "此次作业截止时间为 2019.7.6日"
   ]
  },
  {
   "cell_type": "markdown",
   "metadata": {},
   "source": [
    "#### 5. 完成以下问答和编程练习"
   ]
  },
  {
   "cell_type": "markdown",
   "metadata": {},
   "source": [
    ">"
   ]
  },
  {
   "cell_type": "markdown",
   "metadata": {},
   "source": [
    "## 基础理论部分"
   ]
  },
  {
   "cell_type": "markdown",
   "metadata": {},
   "source": [
    "#### 0. Can you come up out 3 sceneraies which use AI methods? "
   ]
  },
  {
   "cell_type": "markdown",
   "metadata": {},
   "source": [
    "1. speech input\n",
    "2. Tesla driverless technology\n",
    "3. google translation}"
   ]
  },
  {
   "cell_type": "markdown",
   "metadata": {},
   "source": [
    "#### 1. How do we use Github; Why do we use Jupyter and Pycharm;"
   ]
  },
  {
   "cell_type": "markdown",
   "metadata": {},
   "source": [
    "1. We use Github to submit our assignment and related code.\n",
    "2. With Jupyter we can test our code interactively and plot figures with display immediately\n",
    "3. With Pychamr IDE help, it's easy to debug python code and its intelliSense will help a lot."
   ]
  },
  {
   "cell_type": "markdown",
   "metadata": {},
   "source": [
    "#### 2. What's the Probability Model?"
   ]
  },
  {
   "cell_type": "markdown",
   "metadata": {},
   "source": [
    "A probability model is a mathematical representation of a random phenomenon. It is defined by its sample space, events within the sample space, and probabilities associated with each event.\n",
    "The sample space S for a probability model is the set of all possible outcomes."
   ]
  },
  {
   "cell_type": "markdown",
   "metadata": {},
   "source": [
    "#### 3. Can you came up with some sceneraies at which we could use Probability Model?"
   ]
  },
  {
   "cell_type": "markdown",
   "metadata": {},
   "source": [
    "1. Weather forecast\n",
    "2. Identification of credit-card fraud"
   ]
  },
  {
   "cell_type": "markdown",
   "metadata": {},
   "source": [
    "#### 4. Why do we use probability and what's the difficult points for programming based on parsing and pattern match?"
   ]
  },
  {
   "cell_type": "markdown",
   "metadata": {},
   "source": [
    "1. Based on grammer, we may obtain different outputs. In order to estimate the appropriateness of\n",
    "   different outputs, we use probability.\n",
    "2. Even we can generate some programming languages which match the pattern, it's difficult to\n",
    "   do logical deduction. To do programming, we also need to do modeling while simply parsing and\n",
    "   pattern match cannot meet our need."
   ]
  },
  {
   "cell_type": "markdown",
   "metadata": {},
   "source": [
    "#### 5. What's the Language Model;"
   ]
  },
  {
   "cell_type": "markdown",
   "metadata": {},
   "source": [
    "To describe a sequenced setence, we consider words probability one by one. \n",
    "To descirbe such language model mathematiacally, the equation can be like \n",
    "     \\begin{aligned}\n",
    "         Pr(W) &= Pr(w_1, w_2, w_3, w_4\\ldots,)\\\\\n",
    "         &= Pr(w_1)\\times Pr(w_2, w_3, w_4, \\ldots|w_1)\\\\\n",
    "         &= Pr(w_1)\\times Pr(w_2|w_1) \\times Pr(w_3, w_4, \\ldots|w_1, w_2)\\\\\n",
    "         \\ldots\n",
    "     \\end{aligned}"
   ]
  },
  {
   "cell_type": "markdown",
   "metadata": {},
   "source": [
    "#### 6. Can you came up with some sceneraies at which we could use Language Model?\n"
   ]
  },
  {
   "cell_type": "markdown",
   "metadata": {},
   "source": [
    "1. Google translation\n",
    "2. Speech Recognition"
   ]
  },
  {
   "cell_type": "markdown",
   "metadata": {},
   "source": [
    "#### 7. What's the 1-gram language model;"
   ]
  },
  {
   "cell_type": "markdown",
   "metadata": {},
   "source": [
    "Unigram model assumes each word of the speech is independent, which can be described as\n",
    "\n",
    "\\begin{equation}\n",
    "  P(w_{i}|w_{0},\\ldots,w_{i-1}) = P(w_{i})\n",
    "\\end{equation}"
   ]
  },
  {
   "cell_type": "markdown",
   "metadata": {},
   "source": [
    "#### 8. What's the disadvantages and advantages of 1-gram language model;"
   ]
  },
  {
   "cell_type": "markdown",
   "metadata": {},
   "source": [
    "- Disadvantages:\n",
    "  1. With unigram assumption, each word of a speech is independent and with the same probability\n",
    "     while a good sequenced sentence should obey some grammar.\n",
    "  2. Prediction may changed with different training set.\n",
    "- Advantages:\n",
    "  1. Simple model of calculation\n",
    "  2. Larger dataset may help improve the 1-gram language model.\n"
   ]
  },
  {
   "cell_type": "markdown",
   "metadata": {},
   "source": [
    "#### 9. What't the 2-gram models;"
   ]
  },
  {
   "cell_type": "markdown",
   "metadata": {},
   "source": [
    "Briefly, current word's generation is related to the single previous word of it.\n",
    "If we represent it mathematically, then\n",
    "\\begin{equation}\n",
    "  Pr(w_{i}|w_{i-1}, w_{i-2},\\ldots,w_{1}) = Pr(w_{i}|w_{i-1})\n",
    "\\end{equation}"
   ]
  },
  {
   "cell_type": "markdown",
   "metadata": {},
   "source": [
    "## 编程实践部分"
   ]
  },
  {
   "cell_type": "markdown",
   "metadata": {},
   "source": [
    "#### 1. 设计你自己的句子生成器"
   ]
  },
  {
   "cell_type": "markdown",
   "metadata": {},
   "source": [
    "如何生成句子是一个很经典的问题，从1940s开始，图灵提出机器智能的时候，就使用的是人类能不能流畅和计算机进行对话。和计算机对话的一个前提是，计算机能够生成语言。\n",
    "\n",
    "计算机如何能生成语言是一个经典但是又很复杂的问题。 我们课程上为大家介绍的是一种基于规则（Rule Based）的生成方法。该方法虽然提出的时间早，但是现在依然在很多地方能够大显身手。值得说明的是，现在很多很实用的算法，都是很久之前提出的，例如，二分查找提出与1940s, Dijstra算法提出于1960s 等等。"
   ]
  },
  {
   "cell_type": "markdown",
   "metadata": {},
   "source": [
    "在著名的电视剧，电影《西部世界》中，这些机器人们语言生成的方法就是使用的SyntaxTree生成语言的方法。\n",
    "\n",
    "> \n",
    ">\n",
    "\n",
    "![WstWorld](https://timgsa.baidu.com/timg?image&quality=80&size=b10000_10000&sec=1561818705&di=95ca9ff2ff37fcb88ae47b82c7079feb&src=http://s7.sinaimg.cn/mw690/006BKUGwzy75VK46FMi66&690)\n",
    "\n",
    "> \n",
    ">"
   ]
  },
  {
   "cell_type": "markdown",
   "metadata": {},
   "source": [
    "在这一部分，需要各位同学首先定义自己的语言。 大家可以先想一个应用场景，然后在这个场景下，定义语法。例如：\n",
    "\n",
    "在西部世界里，一个”人类“的语言可以定义为：\n",
    "``` \n",
    "human = \"\"\"\n",
    "human = 自己 寻找 活动\n",
    "自己 = 我 | 俺 | 我们 \n",
    "寻找 = 看看 | 找找 | 想找点\n",
    "活动 = 乐子 | 玩的\n",
    "\"\"\"\n",
    "```\n",
    "\n",
    "一个“接待员”的语言可以定义为\n",
    "```\n",
    "host = \"\"\"\n",
    "host = 寒暄 报数 询问 业务相关 结尾 \n",
    "报数 = 我是 数字 号 ,\n",
    "数字 = 单个数字 | 数字 单个数字 \n",
    "单个数字 = 1 | 2 | 3 | 4 | 5 | 6 | 7 | 8 | 9 \n",
    "寒暄 = 称谓 打招呼 | 打招呼\n",
    "称谓 = 人称 ,\n",
    "人称 = 先生 | 女士 | 小朋友\n",
    "打招呼 = 你好 | 您好 \n",
    "询问 = 请问你要 | 您需要\n",
    "业务相关 = 玩玩 具体业务\n",
    "玩玩 = 耍一耍 | 玩一玩\n",
    "具体业务 = 喝酒 | 打牌 | 打猎 | 赌博\n",
    "结尾 = 吗？\"\"\"\n",
    "\n",
    "```\n",
    "\n",
    "\n"
   ]
  },
  {
   "cell_type": "markdown",
   "metadata": {},
   "source": [
    "请定义你自己的语法: "
   ]
  },
  {
   "cell_type": "markdown",
   "metadata": {},
   "source": [
    "第一个语法："
   ]
  },
  {
   "cell_type": "code",
   "execution_count": 5,
   "metadata": {},
   "outputs": [],
   "source": [
    "service = \"\"\"\n",
    "service = 客套 符号 称谓  符号 助词 动词 副词\n",
    "客套 = 你好 | 您好 | Hello | Hi\n",
    "符号 = ， | 。 | ！ | ？\n",
    "称谓 = 先生 | 女士 | 小朋友 | 小姐 | 小伙子 | 阿姨 | 叔叔 | 哥哥 | 妹妹\n",
    "助词 = 请问 | null | 那么 | 这么\n",
    "代词 = 你 | 我 | 它 | 他 | 她 | 您 | 你们\n",
    "动词 = 需要 | 要 | 做 | 干 | 咨询\n",
    "副词 = 什么 | 吗 | 嘛\n",
    "\"\"\""
   ]
  },
  {
   "cell_type": "markdown",
   "metadata": {},
   "source": [
    "第二个语法："
   ]
  },
  {
   "cell_type": "code",
   "execution_count": 6,
   "metadata": {},
   "outputs": [],
   "source": [
    "customer = \"\"\"\n",
    "customer = 称谓 动词 名词\n",
    "称谓 = 我们 | 我 | 俺 | 俺们 | we\n",
    "动词 = 需要 | 要 | need\n",
    "名词 = 拿铁 | 卡布奇诺 | 爱尔兰 | 摩卡 | 手冲 | 温水\n",
    "\"\"\""
   ]
  },
  {
   "cell_type": "markdown",
   "metadata": {},
   "source": [
    "TODO: 然后，使用自己之前定义的generate函数，使用此函数生成句子。"
   ]
  },
  {
   "cell_type": "code",
   "execution_count": 8,
   "metadata": {},
   "outputs": [],
   "source": [
    "import random\n",
    "import jieba\n",
    "from collections import Counter\n",
    " \n",
    "def create_grammar(origin_grammar, inner_delimiter=\"|\", outer_delimiter=\"=\", line_delimiter=\"\\n\"):\n",
    "    grammer = {}\n",
    "    for line in origin_grammar.split(line_delimiter):\n",
    "        if not line.split(): continue\n",
    "        exp, stmt = line.split(outer_delimiter)\n",
    "        grammer[exp.split()[0]] = [s.split() for s in stmt.split(inner_delimiter)]\n",
    "    return grammer\n",
    "\n",
    "def generate(grammar, target):\n",
    "    if target not in grammar: return target\n",
    "    expand = [generate(grammar, t) for t in random.choice(grammar[target])]\n",
    "    return \"\".join([e if e != '/n' else '\\n' for e in expand if e != 'null'])"
   ]
  },
  {
   "cell_type": "markdown",
   "metadata": {},
   "source": [
    "TODO: 然后，定义一个函数，generate_n，将generate扩展，使其能够生成n个句子:"
   ]
  },
  {
   "cell_type": "code",
   "execution_count": 9,
   "metadata": {},
   "outputs": [
    {
     "data": {
      "text/plain": [
       "['您好。先生。那么要什么', '你好！小朋友。需要嘛', '您好？女士。这么咨询什么']"
      ]
     },
     "execution_count": 9,
     "metadata": {},
     "output_type": "execute_result"
    }
   ],
   "source": [
    "def generate_n(origin_grammar, target, n=10):\n",
    "    setences = []\n",
    "    for i in range(n):\n",
    "        setences.append(generate(create_grammar(origin_grammar), target))\n",
    "    return setences\n",
    "\n",
    "generate_n(service, 'service', 3)"
   ]
  },
  {
   "cell_type": "markdown",
   "metadata": {},
   "source": [
    ">"
   ]
  },
  {
   "cell_type": "markdown",
   "metadata": {},
   "source": [
    "#### 2. 使用新数据源完成语言模型的训练"
   ]
  },
  {
   "cell_type": "markdown",
   "metadata": {},
   "source": [
    "按照我们上文中定义的`prob_2`函数，我们更换一个文本数据源，获得新的Language Model:\n",
    "\n",
    "1. 下载文本数据集（你可以在以下数据集中任选一个，也可以两个都使用）\n",
    "    + 可选数据集1，保险行业问询对话集： https://github.com/Computing-Intelligence/insuranceqa-corpus-zh/raw/release/corpus/pool/train.txt.gz\n",
    "    + 可选数据集2：豆瓣评论数据集：https://github.com/Computing-Intelligence/datasource/raw/master/movie_comments.csv\n",
    "2. 修改代码，获得新的**2-gram**语言模型\n",
    "    + 进行文本清洗，获得所有的纯文本\n",
    "    + 将这些文本进行切词\n",
    "    + 送入之前定义的语言模型中，判断文本的合理程度"
   ]
  },
  {
   "cell_type": "code",
   "execution_count": 12,
   "metadata": {},
   "outputs": [],
   "source": [
    "import re\n",
    "TOKENS = []\n",
    "\n",
    "# 读取保险数据\n",
    "for i, line in enumerate(open(\"train.txt\")):\n",
    "    origin_stmt = line.split(\"++$++\")\n",
    "    stmt = [s.strip().rstrip() for s in origin_stmt]\n",
    "    TOKENS += list(jieba.cut(stmt[2]))\n",
    "\n",
    "# 读取豆瓣评论\n",
    "for i, line in enumerate(open(\"movie_comments.txt\", newline=\"\\r\\n\")):\n",
    "    if i == 0: continue\n",
    "    origin_stmt = line.split(\",\")\n",
    "    stmt = [s.strip().rstrip() for s in origin_stmt]\n",
    "    if len(stmt) < 4:\n",
    "        TOKENS += list(jieba.cut(\"\".join(re.findall(\"\\w+\", str(stmt)))))\n",
    "        continue\n",
    "    TOKENS += list(jieba.cut(\"\".join(re.findall(\"\\w+\", str(stmt[3])))))"
   ]
  },
  {
   "cell_type": "code",
   "execution_count": 18,
   "metadata": {},
   "outputs": [
    {
     "name": "stdout",
     "output_type": "stream",
     "text": [
      "Hi。叔叔？咨询什么 with minus log prob.  103.7146721886676\n",
      "Hello，先生？请问做吗 with minus log prob.  106.1329609371904\n",
      "你好？小朋友。需要吗 with minus log prob.  85.79721780704774\n"
     ]
    }
   ],
   "source": [
    "import math\n",
    "# 概率模型定义\n",
    "# 1. 为了避免出现数值过小的问题，采用 log 对概率进行处理\n",
    "# 2. 可能有些词汇不在词汇表中，加入对未出现的词汇处理\n",
    "# 3. 按照 -log 计算，则值越小，表示概率越大\n",
    "counter_1g = Counter(TOKENS)\n",
    "TOKENS_2_GRAM = [\"\".join(TOKENS[i:i+2]) for i in range(len(TOKENS)-1)]\n",
    "counter_2g = Counter(TOKENS_2_GRAM)\n",
    "def prob_single(word):\n",
    "    if word in counter_1g:\n",
    "        return -math.log(counter_1g[word] / len(TOKENS))\n",
    "    return -math.log(1/len(TOKENS))\n",
    "\n",
    "def prob_dual(word_1, word_2):\n",
    "    if word_1 + word_2 in counter_2g:\n",
    "        return -math.log(counter_2g[word_1+word_2]/len(TOKENS_2_GRAM))\n",
    "    else:\n",
    "        return prob_single(word_1) + prob_single(word_2)\n",
    "    \n",
    "def prob_sentence(sentence):\n",
    "    words = list(jieba.cut(sentence))\n",
    "    log_prob = 0.\n",
    "    for i, word in enumerate(words[:-1]):\n",
    "        next_ = words[i+1]\n",
    "        log_prob += prob_dual(word, next_)\n",
    "    return log_prob\n",
    "\n",
    "for sentence in generate_n(service, 'service', 3):\n",
    "    print(sentence, \"with minus log prob. \", prob_sentence(sentence))"
   ]
  },
  {
   "cell_type": "markdown",
   "metadata": {},
   "source": [
    "> "
   ]
  },
  {
   "cell_type": "markdown",
   "metadata": {},
   "source": [
    "#### 3. 获得最优质的的语言"
   ]
  },
  {
   "cell_type": "markdown",
   "metadata": {},
   "source": [
    "当我们能够生成随机的语言并且能判断之后，我们就可以生成更加合理的语言了。请定义 generate_best 函数，该函数输入一个语法 + 语言模型，能够生成**n**个句子，并能选择一个最合理的句子: \n",
    "\n"
   ]
  },
  {
   "cell_type": "markdown",
   "metadata": {},
   "source": [
    "提示，要实现这个函数，你需要Python的sorted函数"
   ]
  },
  {
   "cell_type": "code",
   "execution_count": 13,
   "metadata": {},
   "outputs": [
    {
     "data": {
      "text/plain": [
       "[1, 2, 3, 5]"
      ]
     },
     "execution_count": 13,
     "metadata": {},
     "output_type": "execute_result"
    }
   ],
   "source": [
    "sorted([1, 3, 5, 2])"
   ]
  },
  {
   "cell_type": "markdown",
   "metadata": {},
   "source": [
    "这个函数接受一个参数key，这个参数接受一个函数作为输入，例如"
   ]
  },
  {
   "cell_type": "code",
   "execution_count": 15,
   "metadata": {},
   "outputs": [
    {
     "data": {
      "text/plain": [
       "[(1, 4), (2, 5), (4, 4), (5, 0)]"
      ]
     },
     "execution_count": 15,
     "metadata": {},
     "output_type": "execute_result"
    }
   ],
   "source": [
    "sorted([(2, 5), (1, 4), (5, 0), (4, 4)], key=lambda x: x[0])"
   ]
  },
  {
   "cell_type": "markdown",
   "metadata": {},
   "source": [
    "能够让list按照第0个元素进行排序."
   ]
  },
  {
   "cell_type": "code",
   "execution_count": 16,
   "metadata": {},
   "outputs": [
    {
     "data": {
      "text/plain": [
       "[(5, 0), (1, 4), (4, 4), (2, 5)]"
      ]
     },
     "execution_count": 16,
     "metadata": {},
     "output_type": "execute_result"
    }
   ],
   "source": [
    "sorted([(2, 5), (1, 4), (5, 0), (4, 4)], key=lambda x: x[1])"
   ]
  },
  {
   "cell_type": "markdown",
   "metadata": {},
   "source": [
    "能够让list按照第1个元素进行排序."
   ]
  },
  {
   "cell_type": "code",
   "execution_count": 17,
   "metadata": {},
   "outputs": [
    {
     "data": {
      "text/plain": [
       "[(2, 5), (1, 4), (4, 4), (5, 0)]"
      ]
     },
     "execution_count": 17,
     "metadata": {},
     "output_type": "execute_result"
    }
   ],
   "source": [
    "sorted([(2, 5), (1, 4), (5, 0), (4, 4)], key=lambda x: x[1], reverse=True)"
   ]
  },
  {
   "cell_type": "markdown",
   "metadata": {},
   "source": [
    "能够让list按照第1个元素进行排序, 但是是递减的顺序。"
   ]
  },
  {
   "cell_type": "markdown",
   "metadata": {},
   "source": [
    ">"
   ]
  },
  {
   "cell_type": "code",
   "execution_count": 20,
   "metadata": {},
   "outputs": [
    {
     "data": {
      "text/plain": [
       "[('我要爱尔兰', 21.37115929829564),\n",
       " ('weneed爱尔兰', 27.200104915905847),\n",
       " ('weneed温水', 28.236196847592623),\n",
       " ('我要拿铁', 29.940944494255387),\n",
       " ('weneed手冲', 30.634092120390996),\n",
       " ('我们需要温水', 32.08782820270111),\n",
       " ('我们要卡布奇诺', 32.50714045754195),\n",
       " ('我需要摩卡', 33.02131133511564),\n",
       " ('我需要摩卡', 33.02131133511564),\n",
       " ('我们需要手冲', 34.48572347549948),\n",
       " ('我们需要手冲', 34.48572347549948),\n",
       " ('俺需要爱尔兰', 37.318282349666454),\n",
       " ('俺们要温水', 38.670371903114614),\n",
       " ('俺需要手冲', 40.7522695541516),\n",
       " ('俺们需要温水', 41.11999433427692),\n",
       " ('俺们需要摩卡', 43.51788960707529),\n",
       " ('we需要卡布奇诺', 45.71511418441151),\n",
       " ('俺们要拿铁', 46.240971577614616),\n",
       " ('我们need卡布奇诺', 52.60016015966317),\n",
       " ('俺们need温水', 56.6730643906474)]"
      ]
     },
     "execution_count": 20,
     "metadata": {},
     "output_type": "execute_result"
    }
   ],
   "source": [
    "def generate_best(grammar, target, n): # you code here\n",
    "    sentences = generate_n(grammar, target, n)\n",
    "    probs = []\n",
    "    for sentence in sentences:\n",
    "        probs.append((sentence, prob_sentence(sentence)))\n",
    "    return sorted(probs,key=lambda x: x[1])\n",
    "\n",
    "generate_best(customer, 'customer', 20)"
   ]
  },
  {
   "cell_type": "markdown",
   "metadata": {},
   "source": [
    "好了，现在我们实现了自己的第一个AI模型，这个模型能够生成比较接近于人类的语言。"
   ]
  },
  {
   "cell_type": "markdown",
   "metadata": {},
   "source": [
    ">"
   ]
  },
  {
   "cell_type": "markdown",
   "metadata": {},
   "source": [
    "Q: 这个模型有什么问题？ 你准备如何提升？ "
   ]
  },
  {
   "cell_type": "markdown",
   "metadata": {},
   "source": [
    "1. Grammar 太简单，需要更多语言学上的积累与分析\n",
    "2. 语料库比较小，可以增加语料库\n",
    "3. N-gram (N>2) 可能会比 2-gram 表现更好"
   ]
  },
  {
   "cell_type": "markdown",
   "metadata": {},
   "source": [
    ">"
   ]
  },
  {
   "cell_type": "markdown",
   "metadata": {},
   "source": [
    "##### 以下内容为可选部分，对于绝大多数同学，能完成以上的项目已经很优秀了，下边的内容如果你还有精力可以试试，但不是必须的。"
   ]
  },
  {
   "cell_type": "markdown",
   "metadata": {},
   "source": [
    "#### 4. (Optional) 完成基于Pattern Match的语句问答\n",
    "> 我们的GitHub仓库中，有一个assignment-01-optional-pattern-match，这个难度较大，感兴趣的同学可以挑战一下。"
   ]
  },
  {
   "cell_type": "markdown",
   "metadata": {},
   "source": [
    "\n",
    "#### 5. (Optional) 完成阿兰图灵机器智能原始论文的阅读\n",
    "1. 请阅读阿兰图灵关于机器智能的原始论文：https://github.com/Computing-Intelligence/References/blob/master/AI%20%26%20Machine%20Learning/Computer%20Machinery%20and%20Intelligence.pdf \n",
    "2. 并按照GitHub仓库中的论文阅读模板，填写完毕后发送给我: mqgao@kaikeba.com 谢谢"
   ]
  },
  {
   "cell_type": "markdown",
   "metadata": {},
   "source": [
    "> "
   ]
  },
  {
   "cell_type": "markdown",
   "metadata": {},
   "source": [
    "各位同学，我们已经完成了自己的第一个AI模型，大家对人工智能可能已经有了一些感觉，人工智能的核心就是，我们如何设计一个模型、程序，在外部的输入变化的时候，我们的程序不变，依然能够解决问题。人工智能是一个很大的领域，目前大家所熟知的深度学习只是其中一小部分，之后也肯定会有更多的方法提出来，但是大家知道人工智能的目标，就知道了之后进步的方向。"
   ]
  },
  {
   "cell_type": "markdown",
   "metadata": {},
   "source": [
    "然后，希望大家对AI不要有恐惧感，这个并不难，大家加油！"
   ]
  },
  {
   "cell_type": "markdown",
   "metadata": {},
   "source": [
    ">"
   ]
  },
  {
   "cell_type": "markdown",
   "metadata": {},
   "source": [
    "![](https://timgsa.baidu.com/timg?image&quality=80&size=b9999_10000&sec=1561828422005&di=48d19c16afb6acc9180183a6116088ac&imgtype=0&src=http%3A%2F%2Fb-ssl.duitang.com%2Fuploads%2Fitem%2F201807%2F28%2F20180728150843_BECNF.thumb.224_0.jpeg)"
   ]
  }
 ],
 "metadata": {
  "kernelspec": {
   "display_name": "Python 3",
   "language": "python",
   "name": "python3"
  },
  "language_info": {
   "codemirror_mode": {
    "name": "ipython",
    "version": 3
   },
   "file_extension": ".py",
   "mimetype": "text/x-python",
   "name": "python",
   "nbconvert_exporter": "python",
   "pygments_lexer": "ipython3",
   "version": "3.7.3"
  }
 },
 "nbformat": 4,
 "nbformat_minor": 2
}
